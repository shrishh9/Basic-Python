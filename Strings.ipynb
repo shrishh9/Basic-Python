{
  "nbformat": 4,
  "nbformat_minor": 0,
  "metadata": {
    "colab": {
      "provenance": [],
      "authorship_tag": "ABX9TyOVT2yhFz3Ap8Bzvk+2W5se",
      "include_colab_link": true
    },
    "kernelspec": {
      "name": "python3",
      "display_name": "Python 3"
    },
    "language_info": {
      "name": "python"
    }
  },
  "cells": [
    {
      "cell_type": "markdown",
      "metadata": {
        "id": "view-in-github",
        "colab_type": "text"
      },
      "source": [
        "<a href=\"https://colab.research.google.com/github/shrishh9/Basic-Python/blob/main/Strings.ipynb\" target=\"_parent\"><img src=\"https://colab.research.google.com/assets/colab-badge.svg\" alt=\"Open In Colab\"/></a>"
      ]
    },
    {
      "cell_type": "code",
      "execution_count": null,
      "metadata": {
        "colab": {
          "base_uri": "https://localhost:8080/"
        },
        "id": "ASPNDwl3OyKO",
        "outputId": "99ee3243-d4ad-4cff-f54b-4e29495ddb3e"
      },
      "outputs": [
        {
          "output_type": "stream",
          "name": "stdout",
          "text": [
            "original string is okay! cat's name is daddy?\n",
            "after hatao punch okay  cat s name is daddy \n"
          ]
        }
      ],
      "source": [
        "#punctuations hatana\n",
        "yolo=\"okay! cat's name is daddy?\"\n",
        "print(\"original string is\",yolo)\n",
        "punch=\",!,(),',&,^,$,%,? \"\n",
        "for i in yolo:\n",
        "  if i in punch:\n",
        "    yolo=yolo.replace(i,\" \")\n",
        "print(\"after hatao punch\",yolo)\n"
      ]
    },
    {
      "cell_type": "code",
      "source": [
        "#reverse string\n",
        "def reverse(string):\n",
        "  string=string[::-1]\n",
        "  print(string)\n",
        "s=\"tummy hurts\"\n",
        "print(\"original string\",s)\n",
        "print(reverse(s))"
      ],
      "metadata": {
        "colab": {
          "base_uri": "https://localhost:8080/"
        },
        "id": "lV7bOmOzREyJ",
        "outputId": "c4a0558b-5532-4dd6-b28b-6832b00fdb15"
      },
      "execution_count": null,
      "outputs": [
        {
          "output_type": "stream",
          "name": "stdout",
          "text": [
            "original string tummy hurts\n",
            "struh ymmut\n",
            "None\n"
          ]
        }
      ]
    },
    {
      "cell_type": "code",
      "source": [
        "#Sum of Digits in a Number\n",
        "def getsum(n):\n",
        "  sum=0\n",
        "  while n!=0:\n",
        "    sum=sum+(n%10)\n",
        "    n=n//10\n",
        "  return sum\n",
        "n=int(input(\"enter number\"))\n",
        "getsum(n)"
      ],
      "metadata": {
        "colab": {
          "base_uri": "https://localhost:8080/"
        },
        "id": "8CRdNloiUB17",
        "outputId": "31349e15-2d26-4003-990f-ce57ae2b509b"
      },
      "execution_count": null,
      "outputs": [
        {
          "name": "stdout",
          "output_type": "stream",
          "text": [
            "enter number12\n"
          ]
        },
        {
          "output_type": "execute_result",
          "data": {
            "text/plain": [
              "3"
            ]
          },
          "metadata": {},
          "execution_count": 16
        }
      ]
    },
    {
      "cell_type": "code",
      "source": [
        "#represent complex numbers using class\n",
        "class complex():\n",
        "  def initcomplex(self):\n",
        "    self.real=int(input(\"enter real part of complex no:\"))\n",
        "    self.img=int(input(\"enter img part of complex no:\"))\n",
        "  def display(self):\n",
        "    print(self.real,\"+\",self.img,\"i\",sep=\"\")\n",
        "  def sumcrow(self,c1,c2):\n",
        "    self.real=c1.real+c2.real\n",
        "    self.img=c1.img+c2.img\n",
        "\n",
        "c1=complex()\n",
        "c1.initcomplex()\n",
        "c1.display()\n",
        "c2=complex()\n",
        "c2.initcomplex()\n",
        "c2.display()\n",
        "c3=complex()\n",
        "c3.sumcrow(c1,c2)\n",
        "c3.display()"
      ],
      "metadata": {
        "colab": {
          "base_uri": "https://localhost:8080/"
        },
        "id": "uq9JSdWWVZc9",
        "outputId": "2935a778-686d-4a01-d409-2b9abc3a1e4c"
      },
      "execution_count": null,
      "outputs": [
        {
          "output_type": "stream",
          "name": "stdout",
          "text": [
            "enter real part of complex no:2\n",
            "enter img part of complex no:5\n",
            "2+5i\n",
            "enter real part of complex no:7\n",
            "enter img part of complex no:4\n",
            "7+4i\n",
            "9+9i\n"
          ]
        }
      ]
    },
    {
      "cell_type": "code",
      "source": [
        "class student():\n",
        "  def name(n):\n",
        "    x=str(input(\"enter students name\"))\n",
        "    return x\n",
        "  def desk(n):\n",
        "    d=int(input(\"enter desk number\"))\n",
        "  def classr(n):\n",
        "    p=int(input(\"classroom is what\"))\n",
        "s1=student()\n",
        "s1.name()\n",
        "s1.desk()\n",
        "s1.classr()"
      ],
      "metadata": {
        "colab": {
          "base_uri": "https://localhost:8080/"
        },
        "id": "N8RFG7qUoDtp",
        "outputId": "2a3f02a8-08c5-4e4a-e765-f4a24ed2c3b8"
      },
      "execution_count": null,
      "outputs": [
        {
          "name": "stdout",
          "output_type": "stream",
          "text": [
            "enter students nameujgj\n",
            "enter desk number6\n",
            "classroom is what9\n"
          ]
        }
      ]
    }
  ]
}