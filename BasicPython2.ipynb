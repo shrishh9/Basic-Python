{
  "nbformat": 4,
  "nbformat_minor": 0,
  "metadata": {
    "colab": {
      "provenance": [],
      "authorship_tag": "ABX9TyPjkvMTZdfqRWyeSplnwY23",
      "include_colab_link": true
    },
    "kernelspec": {
      "name": "python3",
      "display_name": "Python 3"
    },
    "language_info": {
      "name": "python"
    }
  },
  "cells": [
    {
      "cell_type": "markdown",
      "metadata": {
        "id": "view-in-github",
        "colab_type": "text"
      },
      "source": [
        "<a href=\"https://colab.research.google.com/github/shrishh9/Basic-Python/blob/main/BasicPython2.ipynb\" target=\"_parent\"><img src=\"https://colab.research.google.com/assets/colab-badge.svg\" alt=\"Open In Colab\"/></a>"
      ]
    },
    {
      "cell_type": "code",
      "execution_count": null,
      "metadata": {
        "colab": {
          "base_uri": "https://localhost:8080/"
        },
        "id": "-jqaMN2ywxwA",
        "outputId": "fe75f2ed-d498-4dc8-c367-e3c3a0f3c060"
      },
      "outputs": [
        {
          "output_type": "stream",
          "name": "stdout",
          "text": [
            "enter first digit:1\n",
            "enter second digit:2\n",
            "enter third digit:3\n",
            "1 2 3\n",
            "1 3 2\n",
            "2 1 3\n",
            "2 3 1\n",
            "3 1 2\n",
            "3 2 1\n"
          ]
        }
      ],
      "source": [
        "a=int(input('enter first digit:'))\n",
        "b=int(input('enter second digit:'))\n",
        "c=int(input('enter third digit:'))\n",
        "d=[]\n",
        "d.append(a)\n",
        "d.append(b)\n",
        "d.append(c)\n",
        "for i in range(0,3):\n",
        "  for j in range(0,3):\n",
        "    for k in range(0,3):\n",
        "      if(i!=j & j!=k & k!=i):\n",
        "        print(d[i],d[j],d[k])"
      ]
    },
    {
      "cell_type": "code",
      "source": [
        "row=int(input('enter the number of rows'))\n",
        "for i in range(row):\n",
        "  print(' '*i,\" *\"*(row-i))\n"
      ],
      "metadata": {
        "colab": {
          "base_uri": "https://localhost:8080/"
        },
        "id": "Fybbd30b266S",
        "outputId": "a2dd0920-f7b1-4458-9acf-aedabbd9911a"
      },
      "execution_count": null,
      "outputs": [
        {
          "output_type": "stream",
          "name": "stdout",
          "text": [
            "enter the number of rows10\n",
            "  * * * * * * * * * *\n",
            "   * * * * * * * * *\n",
            "    * * * * * * * *\n",
            "     * * * * * * *\n",
            "      * * * * * *\n",
            "       * * * * *\n",
            "        * * * *\n",
            "         * * *\n",
            "          * *\n",
            "           *\n"
          ]
        }
      ]
    },
    {
      "cell_type": "code",
      "source": [
        "r=int(input('enter the number of rows'))\n",
        "c=int(input('enter the number of coloumbs'))\n",
        "matrix=[]\n",
        "print('enter the entries rowwise:')\n",
        "for i in range(r):\n",
        "  a=[]\n",
        "  for j in range(c):\n",
        "    a.append(int(input()))\n",
        "  matrix.append(a)\n",
        "for i in range(r):\n",
        "  for j in range(c):\n",
        "    print(matrix[i][j], end=\"\")\n",
        "  print()\n",
        "\n",
        "\n"
      ],
      "metadata": {
        "colab": {
          "base_uri": "https://localhost:8080/"
        },
        "id": "4SrTD-it1lnv",
        "outputId": "86fc9f9f-23a6-42e3-de14-ded89ee14fb4"
      },
      "execution_count": null,
      "outputs": [
        {
          "output_type": "stream",
          "name": "stdout",
          "text": [
            "enter the number of rows2\n",
            "enter the number of coloumbs3\n",
            "enter the entries rowwise:\n",
            "1\n",
            "2\n",
            "4\n",
            "4\n",
            "5\n",
            "6\n",
            "124\n",
            "456\n"
          ]
        }
      ]
    },
    {
      "cell_type": "code",
      "source": [],
      "metadata": {
        "id": "7dPTAKhsB-_L"
      },
      "execution_count": null,
      "outputs": []
    }
  ]
}