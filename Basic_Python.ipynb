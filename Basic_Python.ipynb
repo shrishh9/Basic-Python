{
  "nbformat": 4,
  "nbformat_minor": 0,
  "metadata": {
    "colab": {
      "provenance": [],
      "authorship_tag": "ABX9TyMNnPpKjYa3RzsqAKHOK22p",
      "include_colab_link": true
    },
    "kernelspec": {
      "name": "python3",
      "display_name": "Python 3"
    },
    "language_info": {
      "name": "python"
    }
  },
  "cells": [
    {
      "cell_type": "markdown",
      "metadata": {
        "id": "view-in-github",
        "colab_type": "text"
      },
      "source": [
        "<a href=\"https://colab.research.google.com/github/shrishh9/Basic-Python/blob/main/Basic_Python.ipynb\" target=\"_parent\"><img src=\"https://colab.research.google.com/assets/colab-badge.svg\" alt=\"Open In Colab\"/></a>"
      ]
    },
    {
      "cell_type": "code",
      "execution_count": null,
      "metadata": {
        "colab": {
          "base_uri": "https://localhost:8080/"
        },
        "id": "1tjqT7_N-qcv",
        "outputId": "64ac9d58-686c-4b60-93aa-0ffc73f9fc6e"
      },
      "outputs": [
        {
          "output_type": "stream",
          "name": "stdout",
          "text": [
            "enter first side:10\n",
            "enter second side:200\n",
            "enter third side:500\n",
            "(3.212583543310376e-12+52465.47078793823j)\n"
          ]
        }
      ],
      "source": [
        "a= float(input('enter first side:'))\n",
        "b= float(input('enter second side:'))\n",
        "c= float(input('enter third side:'))\n",
        "#calculate the semi perimeter\n",
        "s=(a+b+c)/2\n",
        "#calculate the area\n",
        "area=(s*(s-a)*(s-b)*(s-c))**0.5\n",
        "print(area)"
      ]
    },
    {
      "cell_type": "code",
      "source": [
        "a= float(input('enter length:'))\n",
        "b= float(input('enter width:'))\n",
        "area=a*b\n",
        "print(area)"
      ],
      "metadata": {
        "colab": {
          "base_uri": "https://localhost:8080/"
        },
        "id": "NHisJCFD_7ik",
        "outputId": "11b9c2d0-db66-45b3-a8fc-5b48c99a9d8c"
      },
      "execution_count": null,
      "outputs": [
        {
          "output_type": "stream",
          "name": "stdout",
          "text": [
            "enter length:10\n",
            "enter width:10\n",
            "100.0\n"
          ]
        }
      ]
    },
    {
      "cell_type": "code",
      "source": [
        "r= float(input('enter radius:'))\n",
        "area= 3.14*r*r\n",
        "print(area)"
      ],
      "metadata": {
        "colab": {
          "base_uri": "https://localhost:8080/"
        },
        "id": "YCNySfJYAlrq",
        "outputId": "cdbed063-f20e-41fb-9c9b-a5e4dbadf776"
      },
      "execution_count": null,
      "outputs": [
        {
          "output_type": "stream",
          "name": "stdout",
          "text": [
            "enter radius:7\n",
            "153.86\n"
          ]
        }
      ]
    },
    {
      "cell_type": "code",
      "source": [
        "sub1=int(input('enter marks of first subject'))\n",
        "sub2=int(input('enter marks of second subject'))\n",
        "sub3=int(input('enter marks of third subject'))\n",
        "avg=float((sub1+sub2+sub3)/3)\n",
        "if(avg>=90):\n",
        "  print('grade:A')\n",
        "elif(avg>=80 and avg<90):\n",
        "  print('grade:B')\n",
        "elif(avg>=70 and avg<80):\n",
        "  print('grade:C')\n",
        "elif(avg>=60 and avg<70):\n",
        "  print('grade:D')\n",
        "else:\n",
        "  print('grade:F')\n"
      ],
      "metadata": {
        "colab": {
          "base_uri": "https://localhost:8080/"
        },
        "id": "bIrZs73yBzbZ",
        "outputId": "688c4e50-1b8f-49d9-efeb-aca0b016b427"
      },
      "execution_count": null,
      "outputs": [
        {
          "output_type": "stream",
          "name": "stdout",
          "text": [
            "enter marks of first subject89\n",
            "enter marks of second subject75\n",
            "enter marks of third subject77\n",
            "grade:B\n"
          ]
        }
      ]
    },
    {
      "cell_type": "code",
      "source": [
        "import cmath\n",
        "a= float(input('enter the value of coeffiecient a:'))\n",
        "b= float(input('enter seconf coeffient:'))\n",
        "c= float(input('enter third coefficient:'))\n",
        "#calculate discriminant\n",
        "d=(b**2)-(4*a*c)\n",
        "#find two solutions\n",
        "sol1=(-b-cmath.sqrt(d)/2*a)\n",
        "sol2=(-b+cmath.sqrt(d)/2*a)\n",
        "print('the solution are:',sol1,sol2)"
      ],
      "metadata": {
        "colab": {
          "base_uri": "https://localhost:8080/"
        },
        "id": "UGiN5sN6FecA",
        "outputId": "8519f011-4469-4464-d20b-b9634160bd9e"
      },
      "execution_count": null,
      "outputs": [
        {
          "output_type": "stream",
          "name": "stdout",
          "text": [
            "enter the value of coeffiecient a:2\n",
            "enter seconf coeffient:4\n",
            "enter third coefficient:6\n",
            "the solution are: (-4-5.656854249492381j) (-4+5.656854249492381j)\n"
          ]
        }
      ]
    },
    {
      "cell_type": "code",
      "source": [
        "a=int(input('enter first digit:'))\n",
        "b=int(input('enter second digit:'))\n",
        "c=int(input('enter third digit:'))\n",
        "d=[]\n",
        "d.append(a)\n",
        "d.append(b)\n",
        "d.append(c)\n",
        "for i in range(0,3):\n",
        "  for j in range(0,3):\n",
        "    for k in range(0,3):\n",
        "      if(i!=j & j!=k & k!=i):\n",
        "        print(d[i],d[j],d[k])"
      ],
      "metadata": {
        "colab": {
          "base_uri": "https://localhost:8080/"
        },
        "id": "o03CFf5xJ4Zg",
        "outputId": "33b9bb65-8e37-4be9-ccee-c7ff3574b40c"
      },
      "execution_count": 1,
      "outputs": [
        {
          "output_type": "stream",
          "name": "stdout",
          "text": [
            "enter first digit:1\n",
            "enter second digit:2\n",
            "enter third digit:3\n",
            "1 2 3\n",
            "1 3 2\n",
            "2 1 3\n",
            "2 3 1\n",
            "3 1 2\n",
            "3 2 1\n"
          ]
        }
      ]
    },
    {
      "cell_type": "code",
      "source": [
        "row=int(input('enter the number of rows '))\n",
        "for i in range(row):\n",
        "  print(' '*i,\" *\"*(row-i))"
      ],
      "metadata": {
        "colab": {
          "base_uri": "https://localhost:8080/"
        },
        "id": "AKZ0jUrtKCWG",
        "outputId": "f6086f4d-4e7f-4ec8-dde9-47bb8800a544"
      },
      "execution_count": 3,
      "outputs": [
        {
          "output_type": "stream",
          "name": "stdout",
          "text": [
            "enter the number of rows 10\n",
            "  * * * * * * * * * *\n",
            "   * * * * * * * * *\n",
            "    * * * * * * * *\n",
            "     * * * * * * *\n",
            "      * * * * * *\n",
            "       * * * * *\n",
            "        * * * *\n",
            "         * * *\n",
            "          * *\n",
            "           *\n"
          ]
        }
      ]
    },
    {
      "cell_type": "code",
      "source": [
        "r=int(input('enter the number of rows '))\n",
        "c=int(input('enter the number of coloumbs '))\n",
        "matrix=[]\n",
        "print('enter the entries rowwise:')\n",
        "for i in range(r):\n",
        "  a=[]\n",
        "  for j in range(c):\n",
        "    a.append(int(input()))\n",
        "  matrix.append(a)\n",
        "for i in range(r):\n",
        "  for j in range(c):\n",
        "    print(matrix[i][j], end=\"\")\n",
        "  print()\n"
      ],
      "metadata": {
        "colab": {
          "base_uri": "https://localhost:8080/"
        },
        "id": "S18t8ijCKJwj",
        "outputId": "47dedd7f-2d7f-467a-f4f0-b899f177e847"
      },
      "execution_count": 5,
      "outputs": [
        {
          "output_type": "stream",
          "name": "stdout",
          "text": [
            "enter the number of rows 2\n",
            "enter the number of coloumbs 3\n",
            "enter the entries rowwise:\n",
            "1\n",
            "2\n",
            "3\n",
            "4\n",
            "3\n",
            "2\n",
            "123\n",
            "432\n"
          ]
        }
      ]
    }
  ]
}